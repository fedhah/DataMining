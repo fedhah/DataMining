{
 "cells":[
  {
   "cell_type":"markdown",
   "source":[
    "# Sheet"
   ],
   "attachments":{
    
   },
   "metadata":{
    "datalore":{
     "node_id":"Sheet",
     "type":"MD",
     "hide_input_from_viewers":false,
     "hide_output_from_viewers":false,
     "sheet_delimiter":true
    }
   }
  },
  {
   "cell_type":"code",
   "source":[
    "d0 = \"Welcom to our first lab session\"\n",
    "d1 = \"In this lab, you will lean more about Term Document Incidence Matrix\"\n",
    "d2 = \"You will also learn how to visualize it\"\n",
    "d3 = \"Hope you enjoy learning it\"\n",
    "collection = {\"doc0\": d0, \n",
    "              \"doc1\": d1,\"doc2\": d2, \"doc3\": d3}\n",
    "\n",
    "collection\n"
   ],
   "execution_count":5,
   "outputs":[
    {
     "data":{
      "text\/plain":[
       "{'doc0': 'Welcom to our first lab session',\n",
       " 'doc1': 'In this lab, you will lean more about Term Document Incidence Matrix',\n",
       " 'doc2': 'You will also learn how to visualize it',\n",
       " 'doc3': 'Hope you enjoy learning it'}"
      ]
     },
     "metadata":{
      
     },
     "output_type":"display_data"
    }
   ],
   "metadata":{
    "datalore":{
     "node_id":"GPORHBNsTLPu4Rte8VcvRz",
     "type":"CODE",
     "hide_input_from_viewers":false,
     "hide_output_from_viewers":false
    }
   }
  },
  {
   "cell_type":"code",
   "source":[
    "boolean_operators = {'AND', 'OR', 'NOT'}"
   ],
   "execution_count":40,
   "outputs":[
    
   ],
   "metadata":{
    "datalore":{
     "node_id":"EsEE1OewjMnFlsq75Soeo3",
     "type":"CODE",
     "hide_input_from_viewers":false,
     "hide_output_from_viewers":false
    }
   }
  },
  {
   "cell_type":"code",
   "source":[
    "\n",
    "def get_terms (data): \n",
    "    terms=[]\n",
    "    for doc in data:\n",
    "        for term in data[doc].split() :\n",
    "            terms.append(term)\n",
    "    return terms\n",
    "#list of unique terms\n",
    "def get_unique_terms(terms):\n",
    "    unique_terms=[]\n",
    "    for d in terms :\n",
    "        if d not in unique_terms:\n",
    "            unique_terms.append(d)\n",
    "    return unique_terms\n",
    "#document collection terms\n",
    "def get_document_collection_terms(data):\n",
    "    docs_colllection={}\n",
    "    for doc in data:\n",
    "        if doc not in boolean_operators :\n",
    "            docs_colllection[doc]=get_unique_terms(data[doc].split())\n",
    "    return docs_colllection\n",
    "def display_dict(dic):\n",
    "    print(\"\\n\")\n",
    "    for i in dic:\n",
    "        print (i , \" : \" ,dic[i])\n",
    "        print(\"\\n\")\n",
    "\n",
    "print(\"### documents content ###\")\n",
    "display_dict(collection)"
   ],
   "execution_count":41,
   "outputs":[
    {
     "name":"stdout",
     "text":[
      "### documents content ###\n",
      "\n",
      "\n",
      "doc0  :  Welcom to our first lab session\n",
      "\n",
      "\n",
      "doc1  :  In this lab, you will lean more about Term Document Incidence Matrix\n",
      "\n",
      "\n",
      "doc2  :  You will also learn how to visualize it\n",
      "\n",
      "\n",
      "doc3  :  Hope you enjoy learning it\n",
      "\n",
      "\n"
     ],
     "output_type":"stream"
    }
   ],
   "metadata":{
    "datalore":{
     "node_id":"6GAuvhEDyyIyqnHudGsDQ7",
     "type":"CODE",
     "hide_input_from_viewers":false,
     "hide_output_from_viewers":false
    }
   }
  },
  {
   "cell_type":"code",
   "source":[
    
   ],
   "execution_count":null,
   "outputs":[
    
   ],
   "metadata":{
    "datalore":{
     "node_id":"LFqIHnU1S4ZhmOhFYp812j",
     "type":"CODE",
     "hide_input_from_viewers":false,
     "hide_output_from_viewers":false
    }
   }
  },
  {
   "cell_type":"code",
   "source":[
    "print (\"\\n### Terms in all docs ###\\n\" , *get_terms(collection) ,sep= \" \\n \")"
   ],
   "execution_count":42,
   "outputs":[
    {
     "name":"stdout",
     "text":[
      "\n",
      "### Terms in all docs ###\n",
      " \n",
      " Welcom \n",
      " to \n",
      " our \n",
      " first \n",
      " lab \n",
      " session \n",
      " In \n",
      " this \n",
      " lab, \n",
      " you \n",
      " will \n",
      " lean \n",
      " more \n",
      " about \n",
      " Term \n",
      " Document \n",
      " Incidence \n",
      " Matrix \n",
      " You \n",
      " will \n",
      " also \n",
      " learn \n",
      " how \n",
      " to \n",
      " visualize \n",
      " it \n",
      " Hope \n",
      " you \n",
      " enjoy \n",
      " learning \n",
      " it\n"
     ],
     "output_type":"stream"
    }
   ],
   "metadata":{
    "datalore":{
     "node_id":"BWgpeuUtqGQN4ku1a8lQ75",
     "type":"CODE",
     "hide_input_from_viewers":false,
     "hide_output_from_viewers":false
    }
   }
  },
  {
   "cell_type":"code",
   "source":[
    "terms=get_terms(collection)\n",
    "print (\"\\n### Unique Terms in 5 DOCs###\\n\", *get_unique_terms(terms) ,sep=\" | \")"
   ],
   "execution_count":43,
   "outputs":[
    {
     "name":"stdout",
     "text":[
      "\n",
      "### Unique Terms in 5 DOCs###\n",
      " | Welcom | to | our | first | lab | session | In | this | lab, | you | will | lean | more | about | Term | Document | Incidence | Matrix | You | also | learn | how | visualize | it | Hope | enjoy | learning\n"
     ],
     "output_type":"stream"
    }
   ],
   "metadata":{
    "datalore":{
     "node_id":"Pvz7W1aRVwoNhmSl2Kjsly",
     "type":"CODE",
     "hide_input_from_viewers":false,
     "hide_output_from_viewers":false
    }
   }
  },
  {
   "cell_type":"code",
   "source":[
    "print (\"\\n###Document terms Collection ###\" )\n",
    "display_dict(get_document_collection_terms(collection))"
   ],
   "execution_count":44,
   "outputs":[
    {
     "name":"stdout",
     "text":[
      "\n",
      "###Document terms Collection ###\n",
      "\n",
      "\n",
      "doc0  :  ['Welcom', 'to', 'our', 'first', 'lab', 'session']\n",
      "\n",
      "\n",
      "doc1  :  ['In', 'this', 'lab,', 'you', 'will', 'lean', 'more', 'about', 'Term', 'Document', 'Incidence', 'Matrix']\n",
      "\n",
      "\n",
      "doc2  :  ['You', 'will', 'also', 'learn', 'how', 'to', 'visualize', 'it']\n",
      "\n",
      "\n",
      "doc3  :  ['Hope', 'you', 'enjoy', 'learning', 'it']\n",
      "\n",
      "\n"
     ],
     "output_type":"stream"
    }
   ],
   "metadata":{
    "datalore":{
     "node_id":"yeCGx3Hqp4RZ1ZuGLqqKbP",
     "type":"CODE",
     "hide_input_from_viewers":false,
     "hide_output_from_viewers":false
    }
   }
  },
  {
   "cell_type":"code",
   "source":[
    "def term_document_incidence_matrix(collection):\n",
    "## list of terms from the data file collection\n",
    "    terms = get_terms(collection)\n",
    "#list of unique terms\n",
    "    uique_terms = get_unique_terms(terms)\n",
    "#Document collection terms\n",
    "    docs_terms=get_document_collection_terms(collection)\n",
    "#TermDocumentIncidenceMatrix\n",
    "    term_docs_matrix= { }\n",
    "    for term in uique_terms :\n",
    "        vector=[]\n",
    "        for c in docs_terms:\n",
    "            if term in docs_terms[c]:\n",
    "                vector.append(1)\n",
    "            else :\n",
    "                        vector.append(0)\n",
    "                        term_docs_matrix[term]=vector\n",
    "    return term_docs_matrix\n",
    "\n",
    "def term_incidence_vector(term,term_docs_incid_matrix):\n",
    "    try:\n",
    "        return term_docs_incid_matrix[term]\n",
    "    except:\n",
    "        return \"term not found\"\n",
    "    "
   ],
   "execution_count":45,
   "outputs":[
    
   ],
   "metadata":{
    "datalore":{
     "node_id":"zp5xGGcX3WCQK120bhBD5A",
     "type":"CODE",
     "hide_input_from_viewers":false,
     "hide_output_from_viewers":false
    }
   }
  },
  {
   "cell_type":"code",
   "source":[
    "term_docs_incid_matrix=term_document_incidence_matrix(collection)\n",
    "print(\"Term-Document incidence Matrix\\n\")\n",
    "#formatted Display\n",
    "display_dict(term_docs_incid_matrix)"
   ],
   "execution_count":46,
   "outputs":[
    {
     "name":"stdout",
     "text":[
      "Term-Document incidence Matrix\n",
      "\n",
      "\n",
      "\n",
      "Welcom  :  [1, 0, 0, 0]\n",
      "\n",
      "\n",
      "to  :  [1, 0, 1, 0]\n",
      "\n",
      "\n",
      "our  :  [1, 0, 0, 0]\n",
      "\n",
      "\n",
      "first  :  [1, 0, 0, 0]\n",
      "\n",
      "\n",
      "lab  :  [1, 0, 0, 0]\n",
      "\n",
      "\n",
      "session  :  [1, 0, 0, 0]\n",
      "\n",
      "\n",
      "In  :  [0, 1, 0, 0]\n",
      "\n",
      "\n",
      "this  :  [0, 1, 0, 0]\n",
      "\n",
      "\n",
      "lab,  :  [0, 1, 0, 0]\n",
      "\n",
      "\n",
      "you  :  [0, 1, 0, 1]\n",
      "\n",
      "\n",
      "will  :  [0, 1, 1, 0]\n",
      "\n",
      "\n",
      "lean  :  [0, 1, 0, 0]\n",
      "\n",
      "\n",
      "more  :  [0, 1, 0, 0]\n",
      "\n",
      "\n",
      "about  :  [0, 1, 0, 0]\n",
      "\n",
      "\n",
      "Term  :  [0, 1, 0, 0]\n",
      "\n",
      "\n",
      "Document  :  [0, 1, 0, 0]\n",
      "\n",
      "\n",
      "Incidence  :  [0, 1, 0, 0]\n",
      "\n",
      "\n",
      "Matrix  :  [0, 1, 0, 0]\n",
      "\n",
      "\n",
      "You  :  [0, 0, 1, 0]\n",
      "\n",
      "\n",
      "also  :  [0, 0, 1, 0]\n",
      "\n",
      "\n",
      "learn  :  [0, 0, 1, 0]\n",
      "\n",
      "\n",
      "how  :  [0, 0, 1, 0]\n",
      "\n",
      "\n",
      "visualize  :  [0, 0, 1, 0]\n",
      "\n",
      "\n",
      "it  :  [0, 0, 1, 1]\n",
      "\n",
      "\n",
      "Hope  :  [0, 0, 0, 1]\n",
      "\n",
      "\n",
      "enjoy  :  [0, 0, 0, 1]\n",
      "\n",
      "\n",
      "learning  :  [0, 0, 0, 1]\n",
      "\n",
      "\n"
     ],
     "output_type":"stream"
    }
   ],
   "metadata":{
    "datalore":{
     "node_id":"FwoJlgDFzcaJ9s0dcDMFRJ",
     "type":"CODE",
     "hide_input_from_viewers":false,
     "hide_output_from_viewers":false
    }
   }
  },
  {
   "cell_type":"code",
   "source":[
    "print(\"Incidence Vector of 'Matrix' \",term_incidence_vector('Matrix',term_docs_incid_matrix))"
   ],
   "execution_count":47,
   "outputs":[
    {
     "name":"stdout",
     "text":[
      "Incidence Vector of 'Matrix'  [0, 1, 0, 0]\n"
     ],
     "output_type":"stream"
    }
   ],
   "metadata":{
    "datalore":{
     "node_id":"GfZfeH2OBYD5qkFoWmBVrO",
     "type":"CODE",
     "hide_input_from_viewers":false,
     "hide_output_from_viewers":false
    }
   }
  },
  {
   "cell_type":"code",
   "source":[
    "def query_filteration(query,collection):\n",
    "    terms= get_terms(collection)\n",
    "    unique_terms=get_unique_terms(terms)\n",
    "    qterms=[]\n",
    "    splitted_query=query.split()\n",
    "    for qterm in splitted_query:\n",
    "        if qterm in unique_terms or qterm in boolean_operators:\n",
    "            qterms.append(qterm)\n",
    "    return qterms"
   ],
   "execution_count":48,
   "outputs":[
    
   ],
   "metadata":{
    "datalore":{
     "node_id":"0nM6STFJvvONNgJ3GOVIPe",
     "type":"CODE",
     "hide_input_from_viewers":false,
     "hide_output_from_viewers":false
    }
   }
  },
  {
   "cell_type":"code",
   "source":[
    "query=\"learn AND Matrix AND you\"\n",
    "qterms=query_filteration(query,collection)\n",
    "print(qterms)"
   ],
   "execution_count":49,
   "outputs":[
    {
     "name":"stdout",
     "text":[
      "['learn', 'AND', 'Matrix', 'AND', 'you']\n"
     ],
     "output_type":"stream"
    }
   ],
   "metadata":{
    "datalore":{
     "node_id":"olFHCnKr2SWDGiI8ZLk3uu",
     "type":"CODE",
     "hide_input_from_viewers":false,
     "hide_output_from_viewers":false
    }
   }
  },
  {
   "cell_type":"code",
   "source":[
    "query=\"learn and Matrix AND Taibah\"\n",
    "qterms=query_filteration(query,collection)\n",
    "print(qterms)"
   ],
   "execution_count":50,
   "outputs":[
    {
     "name":"stdout",
     "text":[
      "['learn', 'Matrix', 'AND']\n"
     ],
     "output_type":"stream"
    }
   ],
   "metadata":{
    "datalore":{
     "node_id":"PbJjqP6XjclnELPNzF56ya",
     "type":"CODE",
     "hide_input_from_viewers":false,
     "hide_output_from_viewers":false
    }
   }
  },
  {
   "cell_type":"code",
   "source":[
    "def boolean_operator_processing(bool_operator,prevV,nextV):\n",
    "    if bool_operator == \"AND\":\n",
    "        return [a & b for a, b in zip(prevV, nextV)]\n",
    "    elif bool_operator==\"OR\" :\n",
    "        return [a | b for a, b in zip(prevV, nextV)]\n",
    "    elif bool_operator == \"NOT\":\n",
    "        return [1-a for a in prevV]"
   ],
   "execution_count":51,
   "outputs":[
    
   ],
   "metadata":{
    "datalore":{
     "node_id":"gtOfzeoawnRUEELq2iMRfV",
     "type":"CODE",
     "hide_input_from_viewers":false,
     "hide_output_from_viewers":false
    }
   }
  },
  {
   "cell_type":"code",
   "source":[
    "v1=term_incidence_vector('learn',term_docs_incid_matrix)\n",
    "v2=term_incidence_vector('Matrix',term_docs_incid_matrix)\n",
    "v3=[]\n",
    "print('v1',v1)\n",
    "print('v2',v2)"
   ],
   "execution_count":52,
   "outputs":[
    {
     "name":"stdout",
     "text":[
      "v1 [0, 0, 1, 0]\n",
      "v2 [0, 1, 0, 0]\n"
     ],
     "output_type":"stream"
    }
   ],
   "metadata":{
    "datalore":{
     "node_id":"PmMoHGO52DjVnxB1w4n2w7",
     "type":"CODE",
     "hide_input_from_viewers":false,
     "hide_output_from_viewers":false
    }
   }
  },
  {
   "cell_type":"code",
   "source":[
    "print(boolean_operator_processing(\"AND\",v1,v2))"
   ],
   "execution_count":53,
   "outputs":[
    {
     "name":"stdout",
     "text":[
      "[0, 0, 0, 0]\n"
     ],
     "output_type":"stream"
    }
   ],
   "metadata":{
    "datalore":{
     "node_id":"pr36IzG4F3xsPtPBzoIbRn",
     "type":"CODE",
     "hide_input_from_viewers":false,
     "hide_output_from_viewers":false
    }
   }
  },
  {
   "cell_type":"code",
   "source":[
    "print(boolean_operator_processing(\"OR\",v1,v2))"
   ],
   "execution_count":54,
   "outputs":[
    {
     "name":"stdout",
     "text":[
      "[0, 1, 1, 0]\n"
     ],
     "output_type":"stream"
    }
   ],
   "metadata":{
    "datalore":{
     "node_id":"1qUuSyNFUBWImdfJSKnYcW",
     "type":"CODE",
     "hide_input_from_viewers":false,
     "hide_output_from_viewers":false
    }
   }
  },
  {
   "cell_type":"code",
   "source":[
    "print(boolean_operator_processing(\"NOT\",v1,v3))"
   ],
   "execution_count":55,
   "outputs":[
    {
     "name":"stdout",
     "text":[
      "[1, 1, 0, 1]\n"
     ],
     "output_type":"stream"
    }
   ],
   "metadata":{
    "datalore":{
     "node_id":"9z5CgGuLhJ6YmRxaqR3Ke2",
     "type":"CODE",
     "hide_input_from_viewers":false,
     "hide_output_from_viewers":false
    }
   }
  },
  {
   "cell_type":"code",
   "source":[
    "def boolean_retrieval(query,collection):\n",
    "#build a terms_documents incidence matrix\n",
    "    term_docs_incid_matrix=term_document_incidence_matrix(collection)\n",
    "    bitwiseop=\"\"\n",
    "#get the query terms\n",
    "    qterms=query_filteration(query,collection)\n",
    "    result=[]\n",
    "    result_set={}\n",
    "    has_previous_term=False\n",
    "    has_not_operation=False\n",
    "    inc_vec_prev=[]\n",
    "    inc_vec_next=[]\n",
    "    for term in qterms :\n",
    "        if term not in boolean_operators:\n",
    "            if has_not_operation:\n",
    "                if has_previous_term:\n",
    "                     inc_vec_next=boolean_operator_processing(\"NOT\",term_docs_incid_matrix)\n",
    "                else:\n",
    "                    inc_vec_prev=boolean_operator_processing(\"NOT\",term_docs_incid_matrix)\n",
    "                    result=inc_vec_prev\n",
    "                has_not_operation=False\n",
    "            elif has_previous_term:\n",
    "                inc_vec_next=term_docs_incid_matrix[term]\n",
    "            else :\n",
    "                inc_vec_prev=term_docs_incid_matrix[term]\n",
    "                result= inc_vec_prev\n",
    "                has_previous_term=True\n",
    "        elif term ==\"NOT\":\n",
    "            has_not_operation=True\n",
    "        else :\n",
    "            bitwiseop=term\n",
    "        if len(inc_vec_next)!= 0 :\n",
    "            result = boolean_operator_processing(bitwiseop,inc_vec_prev,inc_vec_next)\n",
    "            inc_vec_prev=result\n",
    "            has_previous_term=True\n",
    "            inc_vec_next= []\n",
    "            \n",
    "    for i,doc in zip(result,collection):\n",
    "        result_set[doc]=i\n",
    "    return result_set"
   ],
   "execution_count":56,
   "outputs":[
    
   ],
   "metadata":{
    "datalore":{
     "node_id":"B0MZ1eitTKrugYlAMe0s20",
     "type":"CODE",
     "hide_input_from_viewers":false,
     "hide_output_from_viewers":false
    }
   }
  },
  {
   "cell_type":"code",
   "source":[
    "collection"
   ],
   "execution_count":57,
   "outputs":[
    {
     "data":{
      "text\/plain":[
       "{'doc0': 'Welcom to our first lab session',\n",
       " 'doc1': 'In this lab, you will lean more about Term Document Incidence Matrix',\n",
       " 'doc2': 'You will also learn how to visualize it',\n",
       " 'doc3': 'Hope you enjoy learning it'}"
      ]
     },
     "metadata":{
      
     },
     "output_type":"display_data"
    }
   ],
   "metadata":{
    "datalore":{
     "node_id":"lNnHkGSAt5uj3SL2d8IkZc",
     "type":"CODE",
     "hide_input_from_viewers":false,
     "hide_output_from_viewers":false
    }
   }
  },
  {
   "cell_type":"code",
   "source":[
    "query1 = \" Document OR lab OR learn\"\n",
    "print(\"query1 boolean retrieval \",boolean_retrieval(query1,collection))"
   ],
   "execution_count":71,
   "outputs":[
    {
     "name":"stdout",
     "text":[
      "query1 boolean retrieval  {'doc0': 1, 'doc1': 1, 'doc2': 1, 'doc3': 0}\n"
     ],
     "output_type":"stream"
    }
   ],
   "metadata":{
    "datalore":{
     "node_id":"DVMROK4FQAt0MfojQXSSeE",
     "type":"CODE",
     "hide_input_from_viewers":false,
     "hide_output_from_viewers":false
    }
   }
  },
  {
   "cell_type":"code",
   "source":[
    "v1=term_incidence_vector(\"Document\",term_docs_incid_matrix)\n",
    "v1"
   ],
   "execution_count":59,
   "outputs":[
    {
     "data":{
      "text\/plain":[
       "[0, 1, 0, 0]"
      ]
     },
     "metadata":{
      
     },
     "output_type":"display_data"
    }
   ],
   "metadata":{
    "datalore":{
     "node_id":"gICXQdRp5jZoGrAShvfFSN",
     "type":"CODE",
     "hide_input_from_viewers":false,
     "hide_output_from_viewers":false
    }
   }
  },
  {
   "cell_type":"code",
   "source":[
    "v2=term_incidence_vector(\"lab\",term_docs_incid_matrix)\n",
    "v2"
   ],
   "execution_count":60,
   "outputs":[
    {
     "data":{
      "text\/plain":[
       "[1, 0, 0, 0]"
      ]
     },
     "metadata":{
      
     },
     "output_type":"display_data"
    }
   ],
   "metadata":{
    "datalore":{
     "node_id":"wr1fEL0Li9nqcGibdRanuA",
     "type":"CODE",
     "hide_input_from_viewers":false,
     "hide_output_from_viewers":false
    }
   }
  },
  {
   "cell_type":"code",
   "source":[
    "Qpart1=boolean_operator_processing(\"OR\",v1,v2)\n",
    "Qpart1"
   ],
   "execution_count":61,
   "outputs":[
    {
     "data":{
      "text\/plain":[
       "[1, 1, 0, 0]"
      ]
     },
     "metadata":{
      
     },
     "output_type":"display_data"
    }
   ],
   "metadata":{
    "datalore":{
     "node_id":"PvReMgQzR4IznB2jWFqcx6",
     "type":"CODE",
     "hide_input_from_viewers":false,
     "hide_output_from_viewers":false
    }
   }
  },
  {
   "cell_type":"code",
   "source":[
    "v3=term_incidence_vector(\"learn\",term_docs_incid_matrix)\n",
    "v3"
   ],
   "execution_count":62,
   "outputs":[
    {
     "data":{
      "text\/plain":[
       "[0, 0, 1, 0]"
      ]
     },
     "metadata":{
      
     },
     "output_type":"display_data"
    }
   ],
   "metadata":{
    "datalore":{
     "node_id":"cHI09bHCPL8CuJoBV1OUJ7",
     "type":"CODE",
     "hide_input_from_viewers":false,
     "hide_output_from_viewers":false
    }
   }
  },
  {
   "cell_type":"code",
   "source":[
    "boolean_operator_processing(\"OR\",Qpart1,v3)"
   ],
   "execution_count":63,
   "outputs":[
    {
     "data":{
      "text\/plain":[
       "[1, 1, 1, 0]"
      ]
     },
     "metadata":{
      
     },
     "output_type":"display_data"
    }
   ],
   "metadata":{
    "datalore":{
     "node_id":"alRcA6yaD1CY7vrfDynMEa",
     "type":"CODE",
     "hide_input_from_viewers":false,
     "hide_output_from_viewers":false
    }
   }
  },
  {
   "cell_type":"code",
   "source":[
    "collection"
   ],
   "execution_count":64,
   "outputs":[
    {
     "data":{
      "text\/plain":[
       "{'doc0': 'Welcom to our first lab session',\n",
       " 'doc1': 'In this lab, you will lean more about Term Document Incidence Matrix',\n",
       " 'doc2': 'You will also learn how to visualize it',\n",
       " 'doc3': 'Hope you enjoy learning it'}"
      ]
     },
     "metadata":{
      
     },
     "output_type":"display_data"
    }
   ],
   "metadata":{
    "datalore":{
     "node_id":"umOmTTdYvZEl4NXSyHtD7s",
     "type":"CODE",
     "hide_input_from_viewers":false,
     "hide_output_from_viewers":false
    }
   }
  },
  {
   "cell_type":"code",
   "source":[
    "query2 = \"Lean AND Matrix AND NOT lab\"\n",
    "\n",
    "print(\"query2 boolean retrieval \",boolean_retrieval(query2 , collection))"
   ],
   "execution_count":69,
   "outputs":[
    {
     "ename":"TypeError",
     "evalue":"TypeError: boolean_operator_processing() missing 1 required positional argument: 'nextV'",
     "traceback":[
      "\u001b[0;31m---------------------------------------------------------------------------",
      "Traceback (most recent call last)",
      "    at line 3 in <module>",
      "    at line 17 in boolean_retrieval(query, collection)",
      "TypeError: boolean_operator_processing() missing 1 required positional argument: 'nextV'"
     ],
     "output_type":"error"
    }
   ],
   "metadata":{
    "datalore":{
     "node_id":"EXWZpHLqMZByuuST5hOMql",
     "type":"CODE",
     "hide_input_from_viewers":false,
     "hide_output_from_viewers":false
    }
   }
  },
  {
   "cell_type":"code",
   "source":[
    
   ],
   "execution_count":null,
   "outputs":[
    
   ],
   "metadata":{
    "datalore":{
     "node_id":"56wcsFUtyVezM426neioPc",
     "type":"CODE",
     "hide_input_from_viewers":false,
     "hide_output_from_viewers":false
    }
   }
  },
  {
   "cell_type":"code",
   "source":[
    
   ],
   "execution_count":null,
   "outputs":[
    
   ],
   "metadata":{
    "datalore":{
     "node_id":"8YCXSFisSogSmNFAvDg3pi",
     "type":"CODE",
     "hide_input_from_viewers":false,
     "hide_output_from_viewers":false
    }
   }
  },
  {
   "cell_type":"markdown",
   "source":[
    "# Sheet 2"
   ],
   "attachments":{
    
   },
   "metadata":{
    "datalore":{
     "node_id":"Sheet 2",
     "type":"MD",
     "hide_input_from_viewers":false,
     "hide_output_from_viewers":false,
     "sheet_delimiter":true
    }
   }
  },
  {
   "cell_type":"code",
   "source":[
    
   ],
   "execution_count":null,
   "outputs":[
    
   ],
   "metadata":{
    "datalore":{
     "node_id":"oCNk6WxUzNSjX4hOBXLXkY",
     "type":"CODE",
     "hide_input_from_viewers":false,
     "hide_output_from_viewers":false
    }
   }
  }
 ],
 "metadata":{
  "kernelspec":{
   "display_name":"Python",
   "language":"python",
   "name":"python"
  },
  "datalore":{
   "version":1,
   "computation_mode":"JUPYTER",
   "package_manager":"pip",
   "base_environment":"default",
   "packages":[
    
   ]
  }
 },
 "nbformat":4,
 "nbformat_minor":4
}